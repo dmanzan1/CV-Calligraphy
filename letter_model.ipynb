{
  "nbformat": 4,
  "nbformat_minor": 0,
  "metadata": {
    "colab": {
      "name": "letter_model.ipynb",
      "provenance": [],
      "collapsed_sections": []
    },
    "kernelspec": {
      "name": "python3",
      "display_name": "Python 3"
    },
    "language_info": {
      "name": "python"
    },
    "accelerator": "GPU"
  },
  "cells": [
    {
      "cell_type": "code",
      "execution_count": 1,
      "metadata": {
        "id": "1k0rQUL4rFch",
        "colab": {
          "base_uri": "https://localhost:8080/"
        },
        "outputId": "e8dc2b38-4ee8-4ac1-bd78-3d69dd2a8ca3"
      },
      "outputs": [
        {
          "output_type": "stream",
          "name": "stdout",
          "text": [
            "Mounted at /content/gdrive\n"
          ]
        }
      ],
      "source": [
        "from google.colab import drive\n",
        "drive.mount(\"/content/gdrive\")"
      ]
    },
    {
      "cell_type": "code",
      "source": [
        "# must execute the following code for github interactions:\n",
        "%cd /content/gdrive/MyDrive/github_version\n",
        "#! git clone https://github.com/dmanzan1/CV-Calligraphy.git\n",
        "#! git pull"
      ],
      "metadata": {
        "colab": {
          "base_uri": "https://localhost:8080/"
        },
        "id": "8PL11Sl8LEUh",
        "outputId": "d49d5069-e610-4fe7-f05b-e3dcdb53d9f8"
      },
      "execution_count": 2,
      "outputs": [
        {
          "output_type": "stream",
          "name": "stdout",
          "text": [
            "/content/gdrive/MyDrive/github_version\n"
          ]
        }
      ]
    },
    {
      "cell_type": "code",
      "source": [
        "%cd CV-Calligraphy/code"
      ],
      "metadata": {
        "colab": {
          "base_uri": "https://localhost:8080/"
        },
        "id": "JqsD_1F4Mxd6",
        "outputId": "7d156d7e-d650-4c81-c459-218e51919abe"
      },
      "execution_count": 3,
      "outputs": [
        {
          "output_type": "stream",
          "name": "stdout",
          "text": [
            "/content/gdrive/MyDrive/github_version/CV-Calligraphy/code\n"
          ]
        }
      ]
    },
    {
      "cell_type": "code",
      "source": [
        "# execution call to obtain the overall testing metrics of the model\n",
        "! python run.py --evaluate --load-checkpoint checkpoints/your_model/050922-234403/your.weights.e024-acc0.8864.h5"
      ],
      "metadata": {
        "id": "l4WkOCAghJ3B",
        "outputId": "0d3e91f9-452b-49b1-8021-4cfd852a16f1",
        "colab": {
          "base_uri": "https://localhost:8080/"
        }
      },
      "execution_count": 5,
      "outputs": [
        {
          "output_type": "stream",
          "name": "stdout",
          "text": [
            "Found 1021 images belonging to 29 classes.\n",
            "Found 202 images belonging to 29 classes.\n",
            "7/7 [==============================] - 51s 6s/step - loss: 0.6289 - sparse_categorical_accuracy: 0.8911\n"
          ]
        }
      ]
    },
    {
      "cell_type": "code",
      "source": [
        "# execution call to obtain a prediction from a full word image\n",
        "! python run.py --load-checkpoint checkpoints/your_model/050922-234403/your.weights.e024-acc0.8864.h5 --read \"/content/gdrive/MyDrive/github_version/Final_Project_Data/Words/omi.png\""
      ],
      "metadata": {
        "id": "9PkOHBZ6xclN",
        "colab": {
          "base_uri": "https://localhost:8080/"
        },
        "outputId": "33312850-c7de-4307-cde8-35ca4483bd72"
      },
      "execution_count": 14,
      "outputs": [
        {
          "output_type": "stream",
          "name": "stdout",
          "text": [
            "Found 1021 images belonging to 29 classes.\n",
            "Found 202 images belonging to 29 classes.\n",
            "pph\n"
          ]
        }
      ]
    },
    {
      "cell_type": "markdown",
      "source": [
        "Below is a demo of what the images look like after our custom preprocessing function. Dimensions are standardized, and color values are adjusted to be either 1 or 0."
      ],
      "metadata": {
        "id": "c1Cb-02iTDCm"
      }
    },
    {
      "cell_type": "code",
      "source": [
        "import tensorflow as tf\n",
        "from tensorflow.python.keras.layers import Conv2D, MaxPool2D, Dropout, Flatten, Dense\n",
        "from skimage import io\n",
        "import torch\n",
        "from torch import nn\n",
        "import matplotlib.pyplot as plt\n",
        "\n",
        "data_path = \"content/gdrive/MyDrive/Final_Project_Data/\"\n",
        "test_img_path = \"/content/gdrive/MyDrive/Final_Project_Data/a/d_a1.png\"\n",
        "whole_text_path = \"/content/gdrive/MyDrive/Final_Project_Data/whole_text.png\"\n",
        "\n",
        "test_img = io.imread(test_img_path)\n",
        "\n",
        "tensor = tf.cast(test_img, dtype=tf.float32)\n",
        "normed = (tensor - tf.reduce_min(tensor)) / (tf.reduce_max(tensor) - tf.reduce_min(tensor))\n",
        "normed = 1 - normed\n",
        "resized = tf.image.resize_with_pad(normed, 242, 200)\n",
        "gray_scale = tf.math.reduce_mean(resized, axis=2)\n",
        "denoise = tf.where(gray_scale < 0.2, x=0, y=1)\n",
        "plt.imshow(1 - denoise, cmap='gray')"
      ],
      "metadata": {
        "colab": {
          "base_uri": "https://localhost:8080/",
          "height": 287
        },
        "id": "7esogMDzyqkM",
        "outputId": "bab573ab-ea52-4215-c973-26078c5bf505"
      },
      "execution_count": null,
      "outputs": [
        {
          "output_type": "execute_result",
          "data": {
            "text/plain": [
              "<matplotlib.image.AxesImage at 0x7f852ac68d90>"
            ]
          },
          "metadata": {},
          "execution_count": 14
        },
        {
          "output_type": "display_data",
          "data": {
            "text/plain": [
              "<Figure size 432x288 with 1 Axes>"
            ],
            "image/png": "[encoded data removed]"
          },
          "metadata": {
            "needs_background": "light"
          }
        }
      ]
    }
  ]
}